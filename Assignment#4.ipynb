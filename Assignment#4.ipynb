{
 "cells": [
  {
   "cell_type": "code",
   "execution_count": 75,
   "metadata": {},
   "outputs": [
    {
     "name": "stdout",
     "output_type": "stream",
     "text": [
      "First_name : Ahmed\n",
      "Last_name : Shahzad\n",
      "Age : 23\n",
      "City : Karachi\n",
      " \n",
      "First_name : Ahmed\n",
      "Last_name : Shahzad\n",
      "Age : 23\n",
      "City : Karachi\n",
      "Qualification : Intermediate\n",
      " \n",
      "First_name : Ahmed\n",
      "Last_name : Shahzad\n",
      "Age : 23\n",
      "City : Karachi\n",
      "Qualification : Graduate\n",
      " \n",
      "First_name : Ahmed\n",
      "Last_name : Shahzad\n",
      "Age : 23\n",
      "City : Karachi\n",
      " \n"
     ]
    }
   ],
   "source": [
    "#my dictionary\n",
    "dic = {\n",
    "    \"First_name\" : \"Ahmed\",\n",
    "    \"Last_name\" : \"Shahzad\", \n",
    "    \"Age\" : 23 ,\n",
    "    \"City\" : \"Karachi\"\n",
    "}\n",
    "\n",
    "#Defining a function for print\n",
    "def call_me():\n",
    "    for key, value in dic.items():\n",
    "        print(key , \":\" , value)\n",
    "    print(\" \")\n",
    "call_me()\n",
    "\n",
    "dic[\"Qualification\"] = \"Intermediate\" #Initiate new key to same dictionary\n",
    "call_me()\n",
    "\n",
    "dic[\"Qualification\"] = \"Graduate\"     #Update value of same key\n",
    "call_me()\n",
    "\n",
    "dic.pop(\"Qualification\")             #Delete a key\n",
    "call_me()"
   ]
  },
  {
   "cell_type": "code",
   "execution_count": 76,
   "metadata": {},
   "outputs": [
    {
     "name": "stdout",
     "output_type": "stream",
     "text": [
      "Name of city is Karachi\n",
      "Name of country is = Pakistan\n",
      "Population of Karachi is 15741000\n",
      "A fact about Karachi is It is the Sixth largest city in the world by city population.\n",
      "~~~~~~~~~~~~~~~~~~~~~~~~~~~~~~~~~~~~\n",
      "Name of city is Dubai\n",
      "Name of country is = UAE\n",
      "Population of Dubai is 3137000\n",
      "A fact about Dubai is Only non-Muslims are allowed to buy and consume alcohol and pork.\n",
      "~~~~~~~~~~~~~~~~~~~~~~~~~~~~~~~~~~~~\n",
      "Name of city is Ottawa\n",
      "Name of country is = Canada\n",
      "Population of Ottawa is 994837\n",
      "A fact about Ottawa is The name Ottawa comes from the Algonquin word adawe, which means to trade.\n",
      "~~~~~~~~~~~~~~~~~~~~~~~~~~~~~~~~~~~~\n",
      "\n",
      "City: Karachi\n",
      "Country: Pakistan\n",
      "Population: 15741000\n",
      "Fact: It is the Sixth largest city in the world by city population.\n",
      "\n",
      "City: Dubai\n",
      "Country: UAE\n",
      "Population: 3137000\n",
      "Fact: Only non-Muslims are allowed to buy and consume alcohol and pork.\n",
      "\n",
      "City: Ottawa\n",
      "Country: Canada\n",
      "Population: 994837\n",
      "Fact: The name Ottawa comes from the Algonquin word adawe, which means to trade.\n"
     ]
    }
   ],
   "source": [
    "cities = {\n",
    "    \"Karachi\":{\n",
    "        \"Country\":\"Pakistan\",\n",
    "        \"Population\":\"15741000\",\n",
    "        \"Fact\":\"It is the Sixth largest city in the world by city population.\",\n",
    "    },\n",
    "    \"Dubai\":{\n",
    "        \"Country\":\"UAE\",\n",
    "        \"Population\":\"3137000\",\n",
    "        \"Fact\":\"Only non-Muslims are allowed to buy and consume alcohol and pork.\",\n",
    "    },\n",
    "    \"Ottawa\":{\n",
    "        \"Country\":\"Canada\",\n",
    "        \"Population\":\"994837\",\n",
    "        \"Fact\":\"The name Ottawa comes from the Algonquin word adawe, which means to trade.\",\n",
    "    }\n",
    "}\n",
    "for x in cities:\n",
    "    print(\"Name of city is\",x)\n",
    "    print(\"Name of country is =\",cities[x][\"Country\"])\n",
    "    print(\"Population of \"+x+\" is\",cities[x][\"Population\"])\n",
    "    print(\"A fact about \"+x+\" is\",cities[x][\"Fact\"])\n",
    "    print(\"~~~~~~~~~~~~~~~~~~~~~~~~~~~~~~~~~~~~\")\n",
    "    \n",
    "    #Or we can use nested loop for printing like this...\n",
    "for city, city_info in cities.items():\n",
    "    print(\"\\nCity:\", city)\n",
    "    \n",
    "    for key in city_info:\n",
    "        print(key + ':', city_info[key])"
   ]
  },
  {
   "cell_type": "code",
   "execution_count": 77,
   "metadata": {},
   "outputs": [
    {
     "name": "stdout",
     "output_type": "stream",
     "text": [
      "How many members do you have? = 5\n",
      "Write your age to check your ticket price = 2\n",
      "Your ticket is free\n",
      "Write your age to check your ticket price = 15\n",
      "Your ticket price is $15\n",
      "Write your age to check your ticket price = 10\n",
      "Your ticket price is $10\n",
      "Write your age to check your ticket price = 9\n",
      "Your ticket price is $10\n",
      "Write your age to check your ticket price = 35\n",
      "Your ticket price is $15\n"
     ]
    }
   ],
   "source": [
    "x = int(input(\"How many members do you have? = \"))\n",
    "i=0\n",
    "while i!=x:\n",
    "    age = int(input(\"Write your age to check your ticket price = \"))\n",
    "    if age <= 3:\n",
    "        print(\"Your ticket is free\")\n",
    "    elif age > 3 and age <= 12:\n",
    "        print(\"Your ticket price is $10\")\n",
    "    elif age > 12:\n",
    "        print(\"Your ticket price is $15\")\n",
    "    else:\n",
    "        print(\"Enter valid age\")\n",
    "    i+=1"
   ]
  },
  {
   "cell_type": "code",
   "execution_count": 4,
   "metadata": {},
   "outputs": [
    {
     "name": "stdout",
     "output_type": "stream",
     "text": [
      "Write a book name = andaza\n",
      "One of my favourite book is  andaza in wonderland\n"
     ]
    }
   ],
   "source": [
    "def favourite_book(title):\n",
    "    print(\"One of my favourite book is\",title,\"in wonderland\")\n",
    "favourite_book(input(\"Write a book name = \"))"
   ]
  },
  {
   "cell_type": "code",
   "execution_count": 3,
   "metadata": {},
   "outputs": [
    {
     "name": "stdout",
     "output_type": "stream",
     "text": [
      "Guess the correct number in three attempts\n",
      "Guess the correct number between 1-30 = 5\n",
      "The number is greater than your guess\n",
      "Guess the correct number between 1-30 = 1\n",
      "The number is greater than your guess\n",
      "Guess the correct number between 1-30 = 5\n",
      "The number is greater than your guess\n",
      "Sorry you fail to guess the right number in three attempts.\n",
      "The number was 30\n"
     ]
    }
   ],
   "source": [
    "import random\n",
    "rand = random.randint(1,30)\n",
    "i=0\n",
    "print(\"Guess the correct number in three attempts\")\n",
    "while i != 3: \n",
    "    guess = int(input(\"Guess the correct number between 1-30 = \"))\n",
    "    if guess < rand:\n",
    "        print(\"The number is greater than your guess\")\n",
    "        i+=1\n",
    "        \n",
    "    elif guess > rand:\n",
    "        print(\"The number is smaller than your guess\")\n",
    "        i+=1\n",
    "        \n",
    "    elif guess == rand:\n",
    "        print(\"Great! You guess the right number\")\n",
    "        break\n",
    "        i+=1\n",
    "        \n",
    "if guess != rand:\n",
    "    print(\"Sorry you fail to guess the right number in three attempts.\\nThe number was\", rand)"
   ]
  },
  {
   "cell_type": "code",
   "execution_count": null,
   "metadata": {},
   "outputs": [],
   "source": []
  }
 ],
 "metadata": {
  "kernelspec": {
   "display_name": "Python 3",
   "language": "python",
   "name": "python3"
  },
  "language_info": {
   "codemirror_mode": {
    "name": "ipython",
    "version": 3
   },
   "file_extension": ".py",
   "mimetype": "text/x-python",
   "name": "python",
   "nbconvert_exporter": "python",
   "pygments_lexer": "ipython3",
   "version": "3.7.4"
  }
 },
 "nbformat": 4,
 "nbformat_minor": 2
}
