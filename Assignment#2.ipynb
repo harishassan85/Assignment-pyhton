{
 "cells": [
  {
   "cell_type": "code",
   "execution_count": 4,
   "metadata": {},
   "outputs": [
    {
     "name": "stdout",
     "output_type": "stream",
     "text": [
      "***Your Marksheet***\n",
      "Enter your marks of English out of 100 = 55\n",
      "Enter your marks of Urdu out of 100 = 55\n",
      "Enter your marks of Chemistry out of 100 = 55\n",
      "Enter your marks of Physics out of 100 = 55\n",
      "Enter your marks of Maths out of 100 = 55\n",
      "Your Total Marks are 275\n",
      "Your Percentage is 55.00000000000001\n",
      "Congratulations You have secured Grade D\n"
     ]
    }
   ],
   "source": [
    "#Question Number . 1\n",
    "\n",
    "\n",
    "print(\"***Your Marksheet***\")\n",
    "Subject_1 = int(input(\"Enter your marks of English out of 100 = \"))\n",
    "Subject_2 = int(input(\"Enter your marks of Urdu out of 100 = \"))\n",
    "Subject_3 = int(input(\"Enter your marks of Chemistry out of 100 = \"))\n",
    "Subject_4 = int(input(\"Enter your marks of Physics out of 100 = \"))\n",
    "Subject_5 = int(input(\"Enter your marks of Maths out of 100 = \"))\n",
    "Total_marks = Subject_1+Subject_2+Subject_3+Subject_4+Subject_5\n",
    "Percentage = (Total_marks/500)*100\n",
    "print(\"Your Total Marks are \" + str(Total_marks))\n",
    "print(\"Your Percentage is \" + str(Percentage))\n",
    "if Subject_1>33 and Subject_2>33 and Subject_3>33 and Subject_4>33 and Subject_5>33:\n",
    "    if Percentage >= 90 and Percentage <=100:\n",
    "     print(\"Congratulations! You have secured Grade A+\")\n",
    "    elif Percentage <90 and Percentage >=80:\n",
    "     print(\"Congratulations! You have secured Grade A\")\n",
    "    elif Percentage <80 and Percentage >=70:\n",
    "     print(\"Congratulations You have secured Grade B\")\n",
    "    elif Percentage <70 and Percentage >=60:\n",
    "     print(\"Congratulations You have secured Grade C\")\n",
    "    elif Percentage <60 and Percentage >=50:\n",
    "     print(\"Congratulations You have secured Grade D\")\n",
    "    elif Percentage <50 and Percentage >=40:\n",
    "     print(\"Congratulations You have secured Grade E\")\n",
    "    elif Percentage <40 and Percentage >=33:\n",
    "     print(\"Congratulations You have secured Grade F\")\n",
    "    else:\n",
    "         print(\"You have failed in examinations\")\n",
    "else:\n",
    "    print(\"You have failed in examinations\")\n"
   ]
  },
  {
   "cell_type": "code",
   "execution_count": 7,
   "metadata": {},
   "outputs": [
    {
     "name": "stdout",
     "output_type": "stream",
     "text": [
      "Enter a number = 777777\n",
      "Entered number is ODD\n"
     ]
    }
   ],
   "source": [
    "#Question Number . 2\n",
    "\n",
    "number = int(input(\"Enter a number = \"))\n",
    "check = number%2\n",
    "if check == 1:\n",
    "    print(\"Entered number is ODD\")\n",
    "else:\n",
    "    print(\"Entered number is EVEN\")"
   ]
  },
  {
   "cell_type": "code",
   "execution_count": 8,
   "metadata": {},
   "outputs": [
    {
     "name": "stdout",
     "output_type": "stream",
     "text": [
      "6\n"
     ]
    }
   ],
   "source": [
    "#Question Number . 3\n",
    "\n",
    "list1 = [\"Ahmed\",2,31,\"Pyhton\",55,\"The length of the list\"]\n",
    "print(len(list1))"
   ]
  },
  {
   "cell_type": "code",
   "execution_count": 14,
   "metadata": {},
   "outputs": [
    {
     "name": "stdout",
     "output_type": "stream",
     "text": [
      "115\n"
     ]
    }
   ],
   "source": [
    "#Question Number . 4\n",
    "\n",
    "list1 = [5,2,31,12,55,10]\n",
    "print(sum(list1))"
   ]
  },
  {
   "cell_type": "code",
   "execution_count": 18,
   "metadata": {},
   "outputs": [
    {
     "name": "stdout",
     "output_type": "stream",
     "text": [
      "55\n"
     ]
    }
   ],
   "source": [
    "#Question Number . 5\n",
    "\n",
    "list1 = [5,2,31,12,55,10]\n",
    "print(max(list1))"
   ]
  },
  {
   "cell_type": "code",
   "execution_count": 26,
   "metadata": {},
   "outputs": [
    {
     "name": "stdout",
     "output_type": "stream",
     "text": [
      "[1, 1, 2, 3]\n"
     ]
    }
   ],
   "source": [
    "#Question Number . 6\n",
    "\n",
    "a = [1, 1, 2, 3, 5, 8, 13, 21, 34, 55, 89]\n",
    "filtered = [item for item in a if item < 5]\n",
    "print(filtered)"
   ]
  }
 ],
 "metadata": {
  "kernelspec": {
   "display_name": "Python 3",
   "language": "python",
   "name": "python3"
  },
  "language_info": {
   "codemirror_mode": {
    "name": "ipython",
    "version": 3
   },
   "file_extension": ".py",
   "mimetype": "text/x-python",
   "name": "python",
   "nbconvert_exporter": "python",
   "pygments_lexer": "ipython3",
   "version": "3.7.4"
  }
 },
 "nbformat": 4,
 "nbformat_minor": 2
}
