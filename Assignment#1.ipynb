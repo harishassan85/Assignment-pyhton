{
 "cells": [
  {
   "cell_type": "code",
   "execution_count": 10,
   "metadata": {},
   "outputs": [
    {
     "name": "stdout",
     "output_type": "stream",
     "text": [
      "Twinkle, twinkle, little star,\n",
      "     How I wonder what you are!\n",
      "           Up above the world so high,\n",
      "           Like a diamond in the sky.\n",
      "Twinkle, twinkle, little star,\n",
      "      How I wonder what you are\n",
      " \n",
      " \n",
      "Twinkle, twinkle, little star,\n",
      "     How I wonder what you are!\n",
      "           Up above the world so high,\n",
      "           Like a diamond in the sky.\n",
      "Twinkle, twinkle, little star,\n",
      "      How I wonder what you are\n"
     ]
    }
   ],
   "source": [
    "#Q-1\n",
    "print(\"Twinkle, twinkle, little star,\")\n",
    "print(\"     How I wonder what you are!\")\n",
    "print(\"           Up above the world so high,\")\n",
    "print(\"           Like a diamond in the sky.\")\n",
    "print(\"Twinkle, twinkle, little star,\")\n",
    "print(\"      How I wonder what you are\")\n",
    "\n",
    "print(' ',' ',sep='\\n')\n",
    "'''OR WE CAN USE THESE SYNTAX'''\n",
    "print(\"Twinkle, twinkle, little star,\",\"     How I wonder what you are!\",\"           Up above the world so high,\",\"           Like a diamond in the sky.\",\"Twinkle, twinkle, little star,\",\"      How I wonder what you are\",sep=\"\\n\")"
   ]
  },
  {
   "cell_type": "code",
   "execution_count": 3,
   "metadata": {},
   "outputs": [
    {
     "name": "stdout",
     "output_type": "stream",
     "text": [
      "My Python version is 3.7.4\n"
     ]
    }
   ],
   "source": [
    "#Q-2\n",
    "from platform import python_version\n",
    "print(\"My Python version is\",python_version())"
   ]
  },
  {
   "cell_type": "code",
   "execution_count": 4,
   "metadata": {},
   "outputs": [
    {
     "name": "stdout",
     "output_type": "stream",
     "text": [
      "2019-11-03 16:28:25.300228\n"
     ]
    }
   ],
   "source": [
    "#Q-3\n",
    "from datetime import datetime\n",
    "print(datetime.now())"
   ]
  },
  {
   "cell_type": "code",
   "execution_count": 5,
   "metadata": {},
   "outputs": [
    {
     "name": "stdout",
     "output_type": "stream",
     "text": [
      "Please Enter Radius of Circle = 5\n",
      "The Area of circle is Approximately ( 78.5 ) units\n"
     ]
    }
   ],
   "source": [
    "#Q-4\n",
    "radius=int(input(\"Please Enter Radius of Circle = \"))\n",
    "area=3.14*(radius**2)\n",
    "print(\"The Area of circle is Approximately (\",area,\") units\")"
   ]
  },
  {
   "cell_type": "code",
   "execution_count": 6,
   "metadata": {},
   "outputs": [
    {
     "name": "stdout",
     "output_type": "stream",
     "text": [
      "Enter your first name = Ahmed\n",
      "Enter your last name = Ansari\n",
      "Ansari Ahmed\n",
      "Ansari Ahmed\n"
     ]
    }
   ],
   "source": [
    "#Q-5\n",
    "first_name=input(\"Enter your first name = \")\n",
    "last_name=input(\"Enter your last name = \")\n",
    "print(last_name+\" \"+first_name)\n",
    "#OR\n",
    "print(last_name,first_name)"
   ]
  },
  {
   "cell_type": "code",
   "execution_count": 7,
   "metadata": {},
   "outputs": [
    {
     "name": "stdout",
     "output_type": "stream",
     "text": [
      "Enter a number = 5\n",
      "Enter a number = 10\n",
      "15\n"
     ]
    }
   ],
   "source": [
    "#Q-6\n",
    "First_number = int(input(\"Enter a number = \"))\n",
    "Second_number = int(input(\"Enter a number = \"))\n",
    "Result = First_number + Second_number\n",
    "print(Result)"
   ]
  }
 ],
 "metadata": {
  "kernelspec": {
   "display_name": "Python 3",
   "language": "python",
   "name": "python3"
  },
  "language_info": {
   "codemirror_mode": {
    "name": "ipython",
    "version": 3
   },
   "file_extension": ".py",
   "mimetype": "text/x-python",
   "name": "python",
   "nbconvert_exporter": "python",
   "pygments_lexer": "ipython3",
   "version": "3.7.4"
  }
 },
 "nbformat": 4,
 "nbformat_minor": 2
}
