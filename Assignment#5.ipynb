{
 "cells": [
  {
   "cell_type": "code",
   "execution_count": 45,
   "metadata": {},
   "outputs": [
    {
     "name": "stdout",
     "output_type": "stream",
     "text": [
      "Enter a number to find factorial = 9\n",
      "The factorial of 9 is : 362880 = 9 !\n"
     ]
    }
   ],
   "source": [
    "#Q.1\n",
    "\n",
    "def factorial(num):\n",
    "    try:\n",
    "        num = int(num)\n",
    "    except ValueError:\n",
    "        a=1\n",
    "    if num == int:\n",
    "        val = 1\n",
    "    elif type(num) != int:\n",
    "        print(\"Enter an integer value!\")\n",
    "    elif num < 0:\n",
    "        print(\"Sorry! Factorial of negative number is not available\")\n",
    "    else:\n",
    "        val = 1\n",
    "        for i in range(1 , num + 1 ):\n",
    "            val = val * i\n",
    "        print (\"The factorial of\",num,\"is :\" , val,\"=\",num,\"!\")\n",
    "abc=input(\"Enter a number to find factorial = \")\n",
    "factorial(abc)"
   ]
  },
  {
   "cell_type": "code",
   "execution_count": 23,
   "metadata": {},
   "outputs": [
    {
     "name": "stdout",
     "output_type": "stream",
     "text": [
      "enter = AhmeD\n",
      "Upper case letters are = 2\n",
      "Lower case letters are = 3\n"
     ]
    }
   ],
   "source": [
    "#Q.2\n",
    "\n",
    "inp=input(\"Enter a string to calculate upper and lower cases= \")\n",
    "\n",
    "def case(inp):\n",
    "    upper = 0\n",
    "    lower = 0\n",
    "    for c in inp:\n",
    "        if c.isupper():\n",
    "            upper+=1\n",
    "        elif c.islower():\n",
    "            lower+=1\n",
    "    print(\"Upper case letters are =\",upper)\n",
    "    print(\"Lower case letters are =\",lower)\n",
    "case(inp)"
   ]
  },
  {
   "cell_type": "code",
   "execution_count": 8,
   "metadata": {},
   "outputs": [
    {
     "name": "stdout",
     "output_type": "stream",
     "text": [
      "4\n",
      "4\n",
      "12\n",
      "16\n",
      "2\n"
     ]
    }
   ],
   "source": [
    "#Q.3\n",
    "\n",
    "def even(li):\n",
    "    for i in li:\n",
    "        if i%2 == 0:\n",
    "            print(i)\n",
    "list1 = [1,3,7,5,4,9,12,16,2]\n",
    "even(list1)"
   ]
  },
  {
   "cell_type": "code",
   "execution_count": 46,
   "metadata": {},
   "outputs": [
    {
     "name": "stdout",
     "output_type": "stream",
     "text": [
      "Enter a string = Kajak\n",
      "Yes! kajak is a palindrome word.\n"
     ]
    }
   ],
   "source": [
    "#Q.4\n",
    "\n",
    "def isPalindrome(string):\n",
    "    string = string.lower()\n",
    "    another = string[::-1]\n",
    "    if another==string:\n",
    "        print(\"Yes!\",string,\"is a palindrome word.\")\n",
    "    else:\n",
    "        print(\"NO! This word is NOT a palindrome.\")\n",
    "isPalindrome(input('Enter a string = '))"
   ]
  },
  {
   "cell_type": "code",
   "execution_count": 14,
   "metadata": {},
   "outputs": [
    {
     "name": "stdout",
     "output_type": "stream",
     "text": [
      "Enter number = 3\n",
      "3 is a prime number.\n"
     ]
    }
   ],
   "source": [
    "#Q.5\n",
    "\n",
    "def check(prime):\n",
    "    if prime == 1:\n",
    "        print(prime,\"is not a prime number.\")\n",
    "    elif prime == 2:\n",
    "        print(prime,\"is a prime number.\")\n",
    "    for i in range(2,prime):\n",
    "        if prime%i == 0:\n",
    "            print(prime,\"is not a prime number.\")\n",
    "            break\n",
    "        else:\n",
    "            print(prime,\"is a prime number.\")\n",
    "            break\n",
    "prime = int(input(\"Enter number = \"))\n",
    "check(prime)"
   ]
  },
  {
   "cell_type": "code",
   "execution_count": 4,
   "metadata": {},
   "outputs": [
    {
     "name": "stdout",
     "output_type": "stream",
     "text": [
      "Iron\n",
      "Washing Powder\n",
      "Facewash\n",
      "Shampoo\n",
      "Collgate\n",
      "Toothbrush\n",
      "T-Shirts\n",
      "Shoes\n",
      "Bat & Balls\n",
      "etc\n"
     ]
    }
   ],
   "source": [
    "#Q.6\n",
    "\n",
    "def market(*para):\n",
    "    for i in para:\n",
    "        print(i)\n",
    "market(\"Iron\",\"Washing Powder\",\"Facewash\",\"Shampoo\",\"Collgate\",\"Toothbrush\",\"T-Shirts\",\"Shoes\",\"Bat & Balls\",\"etc\")"
   ]
  }
 ],
 "metadata": {
  "kernelspec": {
   "display_name": "Python 3",
   "language": "python",
   "name": "python3"
  },
  "language_info": {
   "codemirror_mode": {
    "name": "ipython",
    "version": 3
   },
   "file_extension": ".py",
   "mimetype": "text/x-python",
   "name": "python",
   "nbconvert_exporter": "python",
   "pygments_lexer": "ipython3",
   "version": "3.7.4"
  }
 },
 "nbformat": 4,
 "nbformat_minor": 2
}
