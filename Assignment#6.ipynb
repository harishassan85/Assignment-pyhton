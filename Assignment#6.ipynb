{
 "cells": [
  {
   "cell_type": "markdown",
   "metadata": {},
   "source": [
    "<h1>Q#1</h1>\n",
    "<h3><i>Object Oriented Programming</i></h3>\n",
    "<p>OOP is a programming paradigm based on the concept of \"objects\", which are data structures that contain data, in the form of fields, often known as attributes; and code, in the form of procedures, often known as methods.</p>"
   ]
  },
  {
   "cell_type": "markdown",
   "metadata": {},
   "source": [
    "<h1>Q#1</h1>\n",
    "<h3><i>Object Oriented Programming</i></h3>\n",
    "<p>OOP is a programming paradigm based on the concept of \"objects\", which are data structures that contain data, in the form of fields, often known as attributes; and code, in the form of procedures, often known as methods.</p>"
   ]
  },
  {
   "cell_type": "markdown",
   "metadata": {},
   "source": [
    "<h1>Q#2</h1>\n",
    "<h3><i>Benefits of OOP</i></h3>\n",
    "<ul>\n",
    "<li>It is possible to have multiple instances of an object to co-exist without any interference.</li>\n",
    "<li>It is possible to map object in the problem domain to those in the program.</li>\n",
    "<li>It is easy to partition the work in a project based on objects.</li>\n",
    "<li>The data-centered design approach enables us to capture more detail of a model can implemental form.</li>\n",
    "<li>Object-oriented system can be easily upgraded from small to large system.</li>\n",
    "<li>Software complexibility can be easily managed.</li>\n",
    "</ul>"
   ]
  },
  {
   "cell_type": "markdown",
   "metadata": {},
   "source": [
    "<h1>Q#2</h1>\n",
    "<h3><i>Benefits of OOP</i></h3>\n",
    "<ul>\n",
    "<li>It is possible to have multiple instances of an object to co-exist without any interference.</li>\n",
    "<li>It is possible to map object in the problem domain to those in the program.</li>\n",
    "<li>It is easy to partition the work in a project based on objects.</li>\n",
    "<li>The data-centered design approach enables us to capture more detail of a model can implemental form.</li>\n",
    "<li>Object-oriented system can be easily upgraded from small to large system.</li>\n",
    "<li>Software complexibility can be easily managed.</li>\n",
    "</ul>"
   ]
  },
  {
   "cell_type": "markdown",
   "metadata": {},
   "source": [
    "<h1>Q#3</h1>\n",
    "<h3><i>Difference between function and method</i></h3>\n",
    "<p>A <b>Functions</b> is independent of an object.</br>A <b>Method</b> is on an object.</p>\n",
    "<p><b>Functions</b> are free, free means not belong to an object or class.</br><b>Methods</b> are member, member means a member of an object or class.</p>\n",
    "<p><b>Functions</b> are defined outside of classes, while <b>Methods</b> are defined inside of and part of classes.</p>"
   ]
  },
  {
   "cell_type": "markdown",
   "metadata": {},
   "source": [
    "<h1>Q#3</h1>\n",
    "<h3><i>Difference between function and method</i></h3>\n",
    "<p>A <b>Functions</b> is independent of an object.</br>A <b>Method</b> is on an object.</p>\n",
    "<p><b>Functions</b> are free, free means not belong to an object or class.</br><b>Methods</b> are member, member means a member of an object or class.</p>\n",
    "<p><b>Functions</b> are defined outside of classes, while <b>Methods</b> are defined inside of and part of classes.</p>"
   ]
  },
  {
   "cell_type": "markdown",
   "metadata": {},
   "source": [
    "<h1>Q#4</h1>\n",
    "<h3>Classes</h3>\n",
    "<p>Classes in object-oriented programming, a class is a blueprint for creating objects (a particular data structure), providing initial values for state and implementations of behaviour. The user-defined objects are created using the class keyword.</p>\n",
    "<h3>Objects</h3>\n",
    "<p>In object-oriented programming, objects are the things you think about first in designing a program and they are also the units of code that are eventually derived from the process.</p>\n",
    "<h3>Attribute</h3>\n",
    "<p>Attributes are data stored inside a class or instance and represent the state or quality of the class or instance. One can think of attributes as noun or adjective, whuke methods are verb of the class.</p>\n",
    "<h3>Behavior</h3>\n",
    "<p>A behavior of class determines how an instance of that class operates;for example, how it will ract if asked to do something by another class or object or if its internal state changes. Behavior is the only way objects can do anything to themselves or have anything done to them.</p>"
   ]
  },
  {
   "cell_type": "markdown",
   "metadata": {},
   "source": [
    "<h1>Q#4</h1>\n",
    "<h3>Classes</h3>\n",
    "<p>Classes in object-oriented programming, a class is a blueprint for creating objects (a particular data structure), providing initial values for state and implementations of behaviour. The user-defined objects are created using the class keyword.</p>\n",
    "<h3>Objects</h3>\n",
    "<p>In object-oriented programming, objects are the things you think about first in designing a program and they are also the units of code that are eventually derived from the process.</p>\n",
    "<h3>Attribute</h3>\n",
    "<p>Attributes are data stored inside a class or instance and represent the state or quality of the class or instance. One can think of attributes as noun or adjective, whuke methods are verb of the class.</p>\n",
    "<h3>Behavior</h3>\n",
    "<p>A behavior of class determines how an instance of that class operates;for example, how it will ract if asked to do something by another class or object or if its internal state changes. Behavior is the only way objects can do anything to themselves or have anything done to them.</p>"
   ]
  },
  {
   "cell_type": "code",
   "execution_count": 6,
   "metadata": {},
   "outputs": [
    {
     "name": "stdout",
     "output_type": "stream",
     "text": [
      "2006 Blue civic 4 Auto\n",
      "2019 Black Toyota 4 Auto\n",
      "2008 White Suzuki 4 Manual\n",
      "2018 Black China 2 Auto\n",
      "2016 Neavy Blue Vigo 2 Manual\n"
     ]
    }
   ],
   "source": [
    "class car():\n",
    "    def __init__(self,model,color,name,seats,gearsystem):\n",
    "        self.model = model\n",
    "        self.color = color\n",
    "        self.name = name\n",
    "        self.seats = seats\n",
    "        self.gearsystem = gearsystem\n",
    "    def model(self,model_no):\n",
    "        self.model_no = model_no\n",
    "    def newcolor(self,newcolor):\n",
    "        self.newcolor = newcolor\n",
    "        \n",
    "car1 = car(2006,\"Blue\",\"civic\",4,\"Auto\")\n",
    "print(car1.model,car1.color,car1.name,car1.seats,car1.gearsystem)\n",
    "\n",
    "car1 = car(2019,\"Black\",\"Toyota\",4,\"Auto\")\n",
    "print(car1.model,car1.color,car1.name,car1.seats,car1.gearsystem)\n",
    "\n",
    "car1 = car(2008,\"White\",\"Suzuki\",4,\"Manual\")\n",
    "print(car1.model,car1.color,car1.name,car1.seats,car1.gearsystem)\n",
    "\n",
    "car1 = car(2018,\"Black\",\"China\",2,\"Auto\")\n",
    "print(car1.model,car1.color,car1.name,car1.seats,car1.gearsystem)\n",
    "\n",
    "car1 = car(2016,\"Neavy Blue\",\"Vigo\",2,\"Manual\")\n",
    "print(car1.model,car1.color,car1.name,car1.seats,car1.gearsystem)"
   ]
  }
 ],
 "metadata": {
  "kernelspec": {
   "display_name": "Python 3",
   "language": "python",
   "name": "python3"
  },
  "language_info": {
   "codemirror_mode": {
    "name": "ipython",
    "version": 3
   },
   "file_extension": ".py",
   "mimetype": "text/x-python",
   "name": "python",
   "nbconvert_exporter": "python",
   "pygments_lexer": "ipython3",
   "version": "3.7.4"
  }
 },
 "nbformat": 4,
 "nbformat_minor": 2
}
