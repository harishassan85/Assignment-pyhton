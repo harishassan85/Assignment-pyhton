{
 "cells": [
  {
   "cell_type": "code",
   "execution_count": 6,
   "metadata": {},
   "outputs": [
    {
     "name": "stdout",
     "output_type": "stream",
     "text": [
      "Enter your first value = 5\n",
      "Enter your second value = 8\n",
      "Enter Operator i.e ' +,-,/,*,** ' = *\n",
      "40\n"
     ]
    }
   ],
   "source": [
    "#Q.1\n",
    "\n",
    "val1 = int(input(\"Enter your first value = \"))\n",
    "val2 = int(input(\"Enter your second value = \"))\n",
    "operator = input(\"Enter Operator i.e ' +,-,/,*,** ' = \")\n",
    "if operator == \"+\" :\n",
    "    print(val1+val2)\n",
    "elif operator == \"-\" :\n",
    "    print(val1-val2)\n",
    "elif operator == \"*\" :\n",
    "    print(val1*val2)\n",
    "elif operator == \"/\" :\n",
    "    print(val1/val2)\n",
    "elif operator == \"**\" :\n",
    "    print(val1**val2)"
   ]
  },
  {
   "cell_type": "code",
   "execution_count": 10,
   "metadata": {},
   "outputs": [
    {
     "name": "stdout",
     "output_type": "stream",
     "text": [
      "Numeric value of list1 is  5\n",
      "Numeric value of list1 is  9\n",
      "Numeric value of list1 is  88\n",
      "Numeric value of list1 is  12\n",
      "Numeric value of list1 is  45\n",
      "Numeric value of list1 is  46.9\n"
     ]
    }
   ],
   "source": [
    "#Q.2\n",
    "\n",
    "list1 = [5,9,88,\"Ahmed\",12,\"Ali\",45,46.9,\"Point\"]\n",
    "for x in list1:\n",
    "    if type(x) == int or type(x) == float :\n",
    "        print(\"Numeric value of list1 is \",x)\n",
    "        "
   ]
  },
  {
   "cell_type": "code",
   "execution_count": 13,
   "metadata": {},
   "outputs": [
    {
     "name": "stdout",
     "output_type": "stream",
     "text": [
      "Enter Key = 654\n",
      "Enter Value = 654\n",
      "{'654': '654'}\n"
     ]
    }
   ],
   "source": [
    "#Q.3\n",
    "\n",
    "dic = {}\n",
    "key = input(\"Enter Key = \")\n",
    "value = input(\"Enter Value = \")\n",
    "dic.update({key:value})\n",
    "\n",
    "print(dic)"
   ]
  },
  {
   "cell_type": "code",
   "execution_count": 28,
   "metadata": {},
   "outputs": [
    {
     "name": "stdout",
     "output_type": "stream",
     "text": [
      "The sum of total numeric values are = 253\n"
     ]
    }
   ],
   "source": [
    "#Q.4\n",
    "\n",
    "dic = {\n",
    "    \"Name\" : \"Ahmed\" ,\n",
    "    \"Score1\" : 31 ,\n",
    "    \"Score2\" : 79 ,\n",
    "    \"Score3\" : 75 ,\n",
    "    \"Score4\" : 68 ,\n",
    "}\n",
    "\n",
    "x = 0\n",
    "for i in dic.values():\n",
    "    if type(i) == int:\n",
    "        x = x + i\n",
    "print(\"The sum of total numeric values are =\",x)"
   ]
  },
  {
   "cell_type": "code",
   "execution_count": 78,
   "metadata": {},
   "outputs": [
    {
     "name": "stdout",
     "output_type": "stream",
     "text": [
      "Duplicate items in list are [1, 5, 9, 7, 6, 2]\n"
     ]
    }
   ],
   "source": [
    "#Q.5\n",
    "\n",
    "list1= [1,5,9,7,6,4,2,1,6,5,9,7,5,3,2,1]\n",
    "duplicate = []\n",
    "for i in range (len(list1)):\n",
    "    a = i + 1\n",
    "    for b in range(a, len(list1)):\n",
    "        if list1[i] == list1[b] and list1[i] not in duplicate:\n",
    "            duplicate.append(list1[i])\n",
    "print(\"Duplicate items are\" , duplicate)"
   ]
  },
  {
   "cell_type": "code",
   "execution_count": 84,
   "metadata": {},
   "outputs": [
    {
     "name": "stdout",
     "output_type": "stream",
     "text": [
      "Enter a key = hj\n",
      "Your entered key is NOT in the dictonary\n"
     ]
    }
   ],
   "source": [
    "#Q.6\n",
    "\n",
    "dic = {\n",
    "    \"value1\" : \"hashim\",\n",
    "    \"value2\" : \"faraz\",\n",
    "    \"value3\" : \"newton\",\n",
    "    \"value4\" : \"denly\",\n",
    "    \"value5\" : \"martin\",\n",
    "    \"value6\" : \"sarfaraz\",\n",
    "}\n",
    "\n",
    "check = input(\"Enter a key = \")\n",
    "if check in dic.keys():\n",
    "    print(\"YES! Entered key is already in the dictonary\")\n",
    "else:\n",
    "    print(\"Your entered key is NOT in the dictonary\")"
   ]
  }
 ],
 "metadata": {
  "kernelspec": {
   "display_name": "Python 3",
   "language": "python",
   "name": "python3"
  },
  "language_info": {
   "codemirror_mode": {
    "name": "ipython",
    "version": 3
   },
   "file_extension": ".py",
   "mimetype": "text/x-python",
   "name": "python",
   "nbconvert_exporter": "python",
   "pygments_lexer": "ipython3",
   "version": "3.7.4"
  }
 },
 "nbformat": 4,
 "nbformat_minor": 2
}
